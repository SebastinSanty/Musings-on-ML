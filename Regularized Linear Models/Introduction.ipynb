{
 "cells": [
  {
   "cell_type": "markdown",
   "metadata": {},
   "source": [
    "# Regularized Linear Models\n",
    "\n",
    "A good way to reduce overfitting is to regularize the model i.e. to constraint it: The fewer the degrees of freedom, the harder it will be to overfit the data. Like, we can reduce the no. of polynomial degrees to reduce the overfitting.\n",
    "For a linear model, regularization is typically achieved by constraining the weights. Ridge, Lasso and ElasticNet are three ways to do that."
   ]
  },
  {
   "cell_type": "code",
   "execution_count": null,
   "metadata": {
    "collapsed": true
   },
   "outputs": [],
   "source": []
  }
 ],
 "metadata": {
  "kernelspec": {
   "display_name": "Python 3",
   "language": "python",
   "name": "python3"
  },
  "language_info": {
   "codemirror_mode": {
    "name": "ipython",
    "version": 3
   },
   "file_extension": ".py",
   "mimetype": "text/x-python",
   "name": "python",
   "nbconvert_exporter": "python",
   "pygments_lexer": "ipython3",
   "version": "3.6.1"
  }
 },
 "nbformat": 4,
 "nbformat_minor": 2
}
